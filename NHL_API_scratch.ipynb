{
 "cells": [
  {
   "cell_type": "code",
   "execution_count": 1,
   "metadata": {},
   "outputs": [],
   "source": [
    "from requests_futures.sessions import FuturesSession\n",
    "from ediblepickle import checkpoint\n",
    "session = FuturesSession(max_workers=5)"
   ]
  },
  {
   "cell_type": "code",
   "execution_count": 2,
   "metadata": {},
   "outputs": [],
   "source": [
    "year = '2017'\n",
    "game_type = '02'\n",
    "game = '0090'\n",
    "game_ID = f'{year}{game_type}{game}'\n",
    "url = f'https://statsapi.web.nhl.com/api/v1/game/{game_ID}/feed/live'"
   ]
  },
  {
   "cell_type": "code",
   "execution_count": 2,
   "metadata": {},
   "outputs": [],
   "source": [
    "def get_games_futures(year,max_games = 1200):\n",
    "    '''\n",
    "        in: string year (4-digit required)\n",
    "        out: list of futures, one for each game that season, querying play-by-play data\n",
    "    '''\n",
    "    session = FuturesSession(max_workers=10)\n",
    "    game_numbers = range(1,max_games)\n",
    "    game_types = ['02',]\n",
    "    futures = []\n",
    "    for game_type in game_types:\n",
    "        for game_num in game_numbers:\n",
    "            game_number = str(game_num).zfill(4)\n",
    "            game_ID = f'{year}{game_type}{game_number}'\n",
    "            url = f'https://statsapi.web.nhl.com/api/v1/game/{game_ID}/feed/live'\n",
    "            futures.append(session.get(url))\n",
    "    return futures"
   ]
  },
  {
   "cell_type": "code",
   "execution_count": 3,
   "metadata": {},
   "outputs": [],
   "source": [
    "def get_plays(future):\n",
    "    '''\n",
    "        in: future, a request to a nhl game live-feed \n",
    "        out: a list of plays from the game, where each play is a dictionary\n",
    "            or None if no game\n",
    "    '''\n",
    "    d = future.result().json()\n",
    "    if 'liveData' in d.keys():\n",
    "        return [play for play in d['liveData']['plays']['allPlays']]\n",
    "    else:\n",
    "        return None\n",
    "    "
   ]
  },
  {
   "cell_type": "code",
   "execution_count": 4,
   "metadata": {},
   "outputs": [],
   "source": [
    "@checkpoint(key = lambda args, kwargs: (str(args[0])+'.p').encode(),\n",
    "                work_dir='./cache'.encode(), \n",
    "                refresh=False)\n",
    "def get_games_plays(year, futures=None):\n",
    "    '''\n",
    "        in: list of futures requesting nhl game live-feeds\n",
    "        out: list of lists (one for each game) where inner list contains plays\n",
    "    '''\n",
    "    if not futures:\n",
    "        futures = get_games_futures(year)\n",
    "        print(f'{year} games')\n",
    "    games_plays = []\n",
    "    for i, future in enumerate(futures):\n",
    "        if i%100 == 0:\n",
    "            print(f'\\tgame {i}')\n",
    "        plays = get_plays(future)\n",
    "        if plays:\n",
    "            games_plays.append(plays)\n",
    "    return games_plays"
   ]
  },
  {
   "cell_type": "code",
   "execution_count": 7,
   "metadata": {},
   "outputs": [],
   "source": [
    "def strip_event(play):\n",
    "    '''\n",
    "        in: full json for a play from nhl api\n",
    "        out: bare bones dictionary with some features\n",
    "    '''\n",
    "    def getcoords(play_coordinates, sbin = 10):\n",
    "        if not ('x' in play_coordinates.keys() \n",
    "                or 'y' in play_coordinates.keys()):\n",
    "            return None\n",
    "        x = None\n",
    "        y = None\n",
    "        if 'x' in play_coordinates.keys():\n",
    "            x = int(play_coordinates['x']/sbin)*sbin\n",
    "        if 'y' in play_coordinates.keys():\n",
    "            y = int(play_coordinates['y']/sbin)*sbin\n",
    "        if x or y:\n",
    "            return (x, y)\n",
    "        else:\n",
    "            return None\n",
    "    event = {}\n",
    "    event['Type'] = ''.join(play['result']['event'].split())\n",
    "    event['Coords'] = getcoords(play['coordinates'])\n",
    "    event['periodTime'] = (int(play['about']['periodTime'][0:2])*60+\n",
    "                           int(play['about']['periodTime'][3:]))\n",
    "    return event"
   ]
  },
  {
   "cell_type": "code",
   "execution_count": 8,
   "metadata": {},
   "outputs": [],
   "source": [
    "import numpy as np\n",
    "def make_delta_time(game_events):\n",
    "    '''\n",
    "    in: a game's worth of plays\n",
    "    out: modified list with feature expansion for time since last play\n",
    "    '''\n",
    "    def bin_DT(deltaTime):\n",
    "        if deltaTime == 0:\n",
    "            return -1\n",
    "        else:\n",
    "            return int(np.log2(deltaTime))\n",
    "    for i, play in enumerate(game_events):\n",
    "        if play['periodTime'] == 0:\n",
    "            play['DeltaTime'] = -1\n",
    "        else:\n",
    "            play['DeltaTime'] = bin_DT(play['periodTime']-\n",
    "                                       game_events[i-1]['periodTime'])"
   ]
  },
  {
   "cell_type": "code",
   "execution_count": 9,
   "metadata": {},
   "outputs": [],
   "source": [
    "def strip_game_events(plays):\n",
    "    '''\n",
    "    in game, list of plays in nhl api json format\n",
    "    out game, list of events in stripped dictionary format\n",
    "    '''\n",
    "    return [strip_event(play) for play in plays]"
   ]
  },
  {
   "cell_type": "code",
   "execution_count": 10,
   "metadata": {},
   "outputs": [],
   "source": [
    "def process_games_plays(games):\n",
    "    '''\n",
    "    in: list of lists of plays\n",
    "    out: list lists of stripped plays for each game\n",
    "    '''\n",
    "    games_stripped = [strip_game_events(game) for game in games]\n",
    "    for game in games_stripped:\n",
    "        make_delta_time(game)\n",
    "    return games_stripped"
   ]
  },
  {
   "cell_type": "code",
   "execution_count": 11,
   "metadata": {},
   "outputs": [],
   "source": [
    "def make_event_string(event):\n",
    "    '''\n",
    "    in: stripped event\n",
    "    out: string\n",
    "    '''\n",
    "    coordstring = 'nocoords'\n",
    "    if event['Coords']:\n",
    "        coordstring = '{}_{}'.format(event['Coords'][0],\n",
    "                                     event['Coords'][1])\n",
    "        \n",
    "    return '{}_{}_{}'.format(event['Type'],\n",
    "                                coordstring,\n",
    "                                event['DeltaTime'])"
   ]
  },
  {
   "cell_type": "code",
   "execution_count": 12,
   "metadata": {},
   "outputs": [],
   "source": [
    "def games_to_corpus(games):\n",
    "    '''\n",
    "    in: a list of games in stripped/processed format\n",
    "    out: a list of strings, one for each game, with each event \n",
    "        represented as a 'word' without whitespace\n",
    "    '''\n",
    "    corpus = []\n",
    "    for game in games:\n",
    "        events_string_list = []\n",
    "        for event in game:\n",
    "            events_string_list.append(make_event_string(event))\n",
    "        corpus.append(' '.join(events_string_list))\n",
    "    return corpus"
   ]
  },
  {
   "cell_type": "code",
   "execution_count": 20,
   "metadata": {},
   "outputs": [
    {
     "name": "stdout",
     "output_type": "stream",
     "text": [
      "2017 games\n",
      "\tgame 0\n",
      "\tgame 100\n",
      "\tgame 200\n",
      "\tgame 300\n",
      "\tgame 400\n",
      "\tgame 500\n",
      "\tgame 600\n",
      "\tgame 700\n",
      "\tgame 800\n",
      "\tgame 900\n",
      "\tgame 1000\n",
      "\tgame 1100\n"
     ]
    }
   ],
   "source": [
    "#this will cache all the recent data on my server\n",
    "#games_plays = []\n",
    "for year in range(2017,2019):\n",
    "    get_games_plays(year)"
   ]
  },
  {
   "cell_type": "code",
   "execution_count": 21,
   "metadata": {},
   "outputs": [
    {
     "name": "stdout",
     "output_type": "stream",
     "text": [
      "got 2011 games\n",
      "processed games\n",
      "corpus extended\n",
      "got 2012 games\n",
      "processed games\n",
      "corpus extended\n",
      "got 2013 games\n",
      "processed games\n",
      "corpus extended\n",
      "got 2014 games\n",
      "processed games\n",
      "corpus extended\n",
      "got 2015 games\n",
      "processed games\n",
      "corpus extended\n",
      "got 2016 games\n",
      "processed games\n",
      "corpus extended\n",
      "got 2017 games\n",
      "processed games\n",
      "corpus extended\n",
      "got 2018 games\n",
      "processed games\n",
      "corpus extended\n"
     ]
    }
   ],
   "source": [
    "corpus = []\n",
    "for year in range(2011,2019):\n",
    "    games = get_games_plays(year)\n",
    "    print(f'got {year} games')\n",
    "    games_processed = process_games_plays(games)\n",
    "    print('processed games')\n",
    "    corpus.extend(games_to_corpus(games_processed))\n",
    "    print('corpus extended')\n"
   ]
  },
  {
   "cell_type": "code",
   "execution_count": 22,
   "metadata": {},
   "outputs": [],
   "source": [
    "with open('corpus.txt', 'w') as f:\n",
    "    for game in corpus:\n",
    "        f.write(\"%s\\n\" % game)"
   ]
  },
  {
   "cell_type": "code",
   "execution_count": 3,
   "metadata": {},
   "outputs": [],
   "source": [
    "import logging\n",
    "import sys\n",
    "from collections import defaultdict\n",
    "from gensim import corpora \n",
    "from gensim.test.utils import common_texts, get_tmpfile\n",
    "from gensim.models import Word2Vec\n",
    "from gensim.models import KeyedVectors"
   ]
  },
  {
   "cell_type": "code",
   "execution_count": 24,
   "metadata": {
    "scrolled": true
   },
   "outputs": [
    {
     "data": {
      "text/plain": [
       "[['human', 'interface', 'computer'],\n",
       " ['survey', 'user', 'computer', 'system', 'response', 'time'],\n",
       " ['eps', 'user', 'interface', 'system'],\n",
       " ['system', 'human', 'system', 'eps'],\n",
       " ['user', 'response', 'time'],\n",
       " ['trees'],\n",
       " ['graph', 'trees'],\n",
       " ['graph', 'minors', 'trees'],\n",
       " ['graph', 'minors', 'survey']]"
      ]
     },
     "execution_count": 24,
     "metadata": {},
     "output_type": "execute_result"
    }
   ],
   "source": [
    "common_texts"
   ]
  },
  {
   "cell_type": "code",
   "execution_count": 25,
   "metadata": {},
   "outputs": [],
   "source": [
    "#format required for input to word2vec\n",
    "game_string_lists = [game.split() for game in corpus]"
   ]
  },
  {
   "cell_type": "code",
   "execution_count": 26,
   "metadata": {},
   "outputs": [
    {
     "data": {
      "text/plain": [
       "[['GameScheduled_nocoords_-1',\n",
       "  'PeriodReady_nocoords_-1',\n",
       "  'PeriodStart_nocoords_-1',\n",
       "  'Faceoff_nocoords_-1',\n",
       "  'Stoppage_nocoords_4',\n",
       "  'Faceoff_-20_-20_-1',\n",
       "  'Giveaway_10_10_4',\n",
       "  'MissedShot_-40_0_4',\n",
       "  'Stoppage_nocoords_-1',\n",
       "  'Faceoff_-60_-20_-1',\n",
       "  'Hit_-70_-30_2',\n",
       "  'Shot_30_-20_3',\n",
       "  'Shot_60_20_3',\n",
       "  'Hit_40_-30_4',\n",
       "  'Hit_-90_0_4',\n",
       "  'Hit_40_30_4',\n",
       "  'MissedShot_-50_-20_3',\n",
       "  'Giveaway_40_-30_3',\n",
       "  'Shot_70_20_2',\n",
       "  'Stoppage_nocoords_0',\n",
       "  'Faceoff_60_20_-1',\n",
       "  'Shot_-10_20_3',\n",
       "  'Stoppage_nocoords_1',\n",
       "  'Faceoff_-60_20_-1',\n",
       "  'BlockedShot_80_0_3',\n",
       "  'Stoppage_nocoords_3',\n",
       "  'Faceoff_60_20_-1',\n",
       "  'Stoppage_nocoords_-1',\n",
       "  'Faceoff_60_20_3',\n",
       "  'Stoppage_nocoords_-1',\n",
       "  'Takeaway_80_30_2',\n",
       "  'Shot_80_0_4',\n",
       "  'Stoppage_nocoords_-1',\n",
       "  'Faceoff_60_-20_-1',\n",
       "  'Takeaway_-50_-30_5',\n",
       "  'MissedShot_70_10_5',\n",
       "  'Shot_40_0_3',\n",
       "  'Shot_50_10_3',\n",
       "  'Stoppage_nocoords_0',\n",
       "  'Faceoff_60_20_-1',\n",
       "  'Hit_70_-30_3',\n",
       "  'Shot_-30_-30_4',\n",
       "  'Takeaway_-90_10_3',\n",
       "  'Stoppage_nocoords_4',\n",
       "  'Faceoff_nocoords_-1',\n",
       "  'Stoppage_nocoords_3',\n",
       "  'Faceoff_nocoords_-1',\n",
       "  'Stoppage_nocoords_5',\n",
       "  'Faceoff_60_-20_-1',\n",
       "  'Giveaway_90_0_2',\n",
       "  'Shot_40_-20_3',\n",
       "  'MissedShot_40_20_2',\n",
       "  'Shot_50_-30_2',\n",
       "  'BlockedShot_-80_10_4',\n",
       "  'Shot_-10_0_4',\n",
       "  'Shot_-60_-10_2',\n",
       "  'BlockedShot_-70_0_2',\n",
       "  'Stoppage_nocoords_5',\n",
       "  'Faceoff_60_-20_-1',\n",
       "  'BlockedShot_50_0_2',\n",
       "  'Hit_90_20_2',\n",
       "  'MissedShot_-50_0_4',\n",
       "  'Stoppage_nocoords_4',\n",
       "  'BlockedShot_70_-10_-1',\n",
       "  'Faceoff_60_-20_-1',\n",
       "  'Shot_70_-10_4',\n",
       "  'Shot_80_0_1',\n",
       "  'Stoppage_nocoords_5',\n",
       "  'Faceoff_-20_-20_-1',\n",
       "  'Stoppage_nocoords_3',\n",
       "  'Faceoff_nocoords_-1',\n",
       "  'Hit_-40_30_3',\n",
       "  'Hit_-30_-30_3',\n",
       "  'Stoppage_nocoords_-1',\n",
       "  'Faceoff_-20_-20_-1',\n",
       "  'BlockedShot_-60_-10_3',\n",
       "  'BlockedShot_70_10_4',\n",
       "  'Shot_70_0_4',\n",
       "  'MissedShot_80_-10_2',\n",
       "  'BlockedShot_70_0_2',\n",
       "  'Giveaway_90_0_5',\n",
       "  'Hit_90_20_3',\n",
       "  'MissedShot_60_0_4',\n",
       "  'Shot_40_10_3',\n",
       "  'MissedShot_70_0_2',\n",
       "  'Penalty_80_30_2',\n",
       "  'Stoppage_nocoords_-1',\n",
       "  'Faceoff_60_20_-1',\n",
       "  'Stoppage_nocoords_4',\n",
       "  'Faceoff_20_-20_-1',\n",
       "  'Shot_30_20_4',\n",
       "  'Shot_70_0_0',\n",
       "  'MissedShot_70_10_0',\n",
       "  'Stoppage_nocoords_5',\n",
       "  'Faceoff_60_-20_-1',\n",
       "  'Hit_80_0_5',\n",
       "  'Giveaway_60_0_4',\n",
       "  'Penalty_90_20_5',\n",
       "  'Faceoff_60_-20_-1',\n",
       "  'Hit_90_20_3',\n",
       "  'PeriodEnd_nocoords_4',\n",
       "  'PeriodOfficial_nocoords_-1',\n",
       "  'PeriodReady_nocoords_-1',\n",
       "  'PeriodStart_nocoords_-1',\n",
       "  'Faceoff_nocoords_-1',\n",
       "  'Shot_70_0_4',\n",
       "  'Goal_60_-10_2',\n",
       "  'Faceoff_nocoords_-1',\n",
       "  'Shot_-30_-30_5',\n",
       "  'Hit_-40_-30_-1',\n",
       "  'Stoppage_nocoords_0',\n",
       "  'Faceoff_-60_-20_-1',\n",
       "  'MissedShot_-30_0_3',\n",
       "  'Takeaway_-60_0_3',\n",
       "  'Hit_-20_-30_3',\n",
       "  'MissedShot_70_10_5',\n",
       "  'Stoppage_nocoords_2',\n",
       "  'Faceoff_60_-20_-1',\n",
       "  'BlockedShot_60_0_3',\n",
       "  'Takeaway_-40_-30_3',\n",
       "  'Shot_-40_30_4',\n",
       "  'Stoppage_nocoords_-1',\n",
       "  'Faceoff_-60_20_-1',\n",
       "  'Hit_90_-20_4',\n",
       "  'Stoppage_nocoords_4',\n",
       "  'Faceoff_60_20_-1',\n",
       "  'Giveaway_90_20_5',\n",
       "  'MissedShot_50_-20_3',\n",
       "  'BlockedShot_40_0_3',\n",
       "  'BlockedShot_-60_0_4',\n",
       "  'BlockedShot_-70_0_4',\n",
       "  'Takeaway_60_20_4',\n",
       "  'BlockedShot_50_0_4',\n",
       "  'Penalty_80_0_4',\n",
       "  'MissedShot_30_-10_-1',\n",
       "  'Stoppage_nocoords_-1',\n",
       "  'Faceoff_60_-20_-1',\n",
       "  'Stoppage_nocoords_5',\n",
       "  'Faceoff_20_-20_-1',\n",
       "  'Stoppage_nocoords_5',\n",
       "  'Faceoff_60_20_-1',\n",
       "  'MissedShot_60_0_2',\n",
       "  'Takeaway_70_0_3',\n",
       "  'Takeaway_-40_20_2',\n",
       "  'Shot_40_0_1',\n",
       "  'Stoppage_nocoords_0',\n",
       "  'Faceoff_60_-20_-1',\n",
       "  'Giveaway_90_0_2',\n",
       "  'MissedShot_40_0_4',\n",
       "  'Shot_80_10_3',\n",
       "  'Penalty_80_0_-1',\n",
       "  'Faceoff_-60_-20_-1',\n",
       "  'MissedShot_-40_20_5',\n",
       "  'Takeaway_-40_-30_4',\n",
       "  'Takeaway_80_-10_4',\n",
       "  'Shot_-40_0_3',\n",
       "  'Stoppage_nocoords_-1',\n",
       "  'Faceoff_-60_-20_-1',\n",
       "  'Stoppage_nocoords_4',\n",
       "  'Faceoff_60_-20_-1',\n",
       "  'Giveaway_-50_30_3',\n",
       "  'MissedShot_50_-10_3',\n",
       "  'Hit_60_30_1',\n",
       "  'Hit_40_-30_2',\n",
       "  'MissedShot_70_-10_3',\n",
       "  'Hit_80_-30_1',\n",
       "  'BlockedShot_-60_0_3',\n",
       "  'Giveaway_90_10_3',\n",
       "  'BlockedShot_60_0_5',\n",
       "  'Hit_-40_20_3',\n",
       "  'MissedShot_60_0_3',\n",
       "  'Stoppage_nocoords_2',\n",
       "  'MissedShot_60_10_-1',\n",
       "  'Faceoff_20_20_-1',\n",
       "  'Giveaway_80_30_5',\n",
       "  'Takeaway_20_-30_4',\n",
       "  'Shot_60_0_2',\n",
       "  'Hit_40_-30_3',\n",
       "  'MissedShot_-40_20_3',\n",
       "  'BlockedShot_-70_0_2',\n",
       "  'Giveaway_-90_-20_1',\n",
       "  'Shot_-30_-20_1',\n",
       "  'Stoppage_nocoords_-1',\n",
       "  'Faceoff_-60_-20_-1',\n",
       "  'Stoppage_nocoords_2',\n",
       "  'Faceoff_-60_-20_-1',\n",
       "  'Shot_70_0_6',\n",
       "  'MissedShot_60_20_2',\n",
       "  'BlockedShot_50_0_3',\n",
       "  'Giveaway_90_30_3',\n",
       "  'Stoppage_nocoords_3',\n",
       "  'Faceoff_60_20_-1',\n",
       "  'Penalty_-90_-10_3',\n",
       "  'Faceoff_60_-20_-1',\n",
       "  'Penalty_nocoords_5',\n",
       "  'Faceoff_60_20_-1',\n",
       "  'Shot_60_-30_6',\n",
       "  'Stoppage_nocoords_3',\n",
       "  'Shot_70_0_-1',\n",
       "  'Faceoff_60_-20_-1',\n",
       "  'MissedShot_50_-10_2',\n",
       "  'PeriodEnd_nocoords_3',\n",
       "  'PeriodOfficial_nocoords_-1',\n",
       "  'PeriodReady_nocoords_-1',\n",
       "  'PeriodStart_nocoords_-1',\n",
       "  'Faceoff_nocoords_-1',\n",
       "  'Shot_-30_20_2',\n",
       "  'Stoppage_nocoords_4',\n",
       "  'Faceoff_-60_20_-1',\n",
       "  'BlockedShot_-70_0_3',\n",
       "  'Penalty_-70_0_-1',\n",
       "  'Faceoff_-60_-20_-1',\n",
       "  'BlockedShot_-40_10_3',\n",
       "  'Shot_-70_0_5',\n",
       "  'Shot_-60_0_3',\n",
       "  'Giveaway_-20_-10_4',\n",
       "  'Giveaway_50_30_3',\n",
       "  'MissedShot_-40_0_2',\n",
       "  'Stoppage_nocoords_5',\n",
       "  'Faceoff_-20_20_-1',\n",
       "  'Shot_50_-10_5',\n",
       "  'Stoppage_nocoords_0',\n",
       "  'Faceoff_60_-20_-1',\n",
       "  'Shot_40_-20_4',\n",
       "  'Stoppage_nocoords_1',\n",
       "  'Faceoff_60_20_-1',\n",
       "  'Giveaway_-40_0_3',\n",
       "  'Goal_-40_10_2',\n",
       "  'Faceoff_nocoords_-1',\n",
       "  'Giveaway_80_40_5',\n",
       "  'Shot_-70_0_3',\n",
       "  'Penalty_-80_0_-1',\n",
       "  'Faceoff_60_20_-1',\n",
       "  'BlockedShot_70_10_5',\n",
       "  'Shot_70_0_3',\n",
       "  'Stoppage_nocoords_-1',\n",
       "  'Faceoff_60_-20_-1',\n",
       "  'BlockedShot_70_-10_5',\n",
       "  'Stoppage_nocoords_-1',\n",
       "  'Faceoff_60_-20_-1',\n",
       "  'Shot_70_10_4',\n",
       "  'Shot_50_30_3',\n",
       "  'Giveaway_60_0_5',\n",
       "  'BlockedShot_60_10_0',\n",
       "  'Hit_90_20_3',\n",
       "  'Shot_20_0_2',\n",
       "  'Hit_90_30_2',\n",
       "  'Shot_60_30_1',\n",
       "  'Stoppage_nocoords_1',\n",
       "  'Shot_80_0_-1',\n",
       "  'Faceoff_60_20_-1',\n",
       "  'Shot_80_-10_4',\n",
       "  'BlockedShot_70_0_4',\n",
       "  'Stoppage_nocoords_3',\n",
       "  'BlockedShot_-70_0_-1',\n",
       "  'Faceoff_-60_20_-1',\n",
       "  'MissedShot_-30_-20_5',\n",
       "  'Hit_-70_30_1',\n",
       "  'Giveaway_40_30_4',\n",
       "  'BlockedShot_60_0_3',\n",
       "  'Stoppage_nocoords_-1',\n",
       "  'Faceoff_60_-20_-1',\n",
       "  'Shot_-60_0_4',\n",
       "  'Hit_-30_40_5',\n",
       "  'Shot_50_30_4',\n",
       "  'Stoppage_nocoords_0',\n",
       "  'Faceoff_60_20_-1',\n",
       "  'Shot_80_10_3',\n",
       "  'Giveaway_-30_-30_2',\n",
       "  'BlockedShot_-60_-10_2',\n",
       "  'BlockedShot_50_0_6',\n",
       "  'MissedShot_-60_20_3',\n",
       "  'Hit_-70_40_3',\n",
       "  'MissedShot_-40_0_4',\n",
       "  'Shot_-50_30_3',\n",
       "  'Stoppage_nocoords_0',\n",
       "  'Faceoff_-60_20_-1',\n",
       "  'Takeaway_30_-30_5',\n",
       "  'Faceoff_60_-20_2',\n",
       "  'BlockedShot_70_0_4',\n",
       "  'Stoppage_nocoords_-1',\n",
       "  'Faceoff_60_-20_-1',\n",
       "  'BlockedShot_60_-10_3',\n",
       "  'BlockedShot_50_0_4',\n",
       "  'Stoppage_nocoords_1',\n",
       "  'Faceoff_60_20_-1',\n",
       "  'Shot_30_0_2',\n",
       "  'Giveaway_90_0_2',\n",
       "  'Hit_-80_-30_3',\n",
       "  'Giveaway_40_-30_5',\n",
       "  'Stoppage_nocoords_4',\n",
       "  'Faceoff_60_20_-1',\n",
       "  'BlockedShot_60_0_2',\n",
       "  'BlockedShot_60_0_2',\n",
       "  'Giveaway_-90_10_4',\n",
       "  'Penalty_70_-30_3',\n",
       "  'Faceoff_60_-20_-1',\n",
       "  'Shot_70_-10_4',\n",
       "  'PeriodEnd_nocoords_3',\n",
       "  'PeriodOfficial_nocoords_-1',\n",
       "  'GameEnd_nocoords_-1']]"
      ]
     },
     "execution_count": 26,
     "metadata": {},
     "output_type": "execute_result"
    }
   ],
   "source": [
    "game_string_lists[1:2][:]"
   ]
  },
  {
   "cell_type": "code",
   "execution_count": 174,
   "metadata": {},
   "outputs": [],
   "source": [
    "path = get_tmpfile(\"word2vec.model\")"
   ]
  },
  {
   "cell_type": "code",
   "execution_count": 27,
   "metadata": {
    "scrolled": true
   },
   "outputs": [],
   "source": [
    "#train the word2vec encoding\n",
    "model = Word2Vec(game_string_lists, size=100, window=5, min_count=1, workers=4)"
   ]
  },
  {
   "cell_type": "code",
   "execution_count": 28,
   "metadata": {},
   "outputs": [],
   "source": [
    "model.save('mymodel.w2v')"
   ]
  },
  {
   "cell_type": "code",
   "execution_count": 6,
   "metadata": {},
   "outputs": [],
   "source": [
    "model = Word2Vec.load('mymodel.w2v')"
   ]
  },
  {
   "cell_type": "code",
   "execution_count": 15,
   "metadata": {
    "scrolled": false
   },
   "outputs": [
    {
     "name": "stderr",
     "output_type": "stream",
     "text": [
      "/home/kunalltiwari/.local/lib/python3.7/site-packages/ipykernel_launcher.py:1: DeprecationWarning: Call to deprecated `most_similar_cosmul` (Method will be removed in 4.0.0, use self.wv.most_similar_cosmul() instead).\n",
      "  \"\"\"Entry point for launching an IPython kernel.\n"
     ]
    },
    {
     "data": {
      "text/plain": [
       "[('Shot_90_10_1', 1.0378228425979614),\n",
       " ('MissedShot_80_20_-1', 1.0277040004730225),\n",
       " ('Shot_20_10_3', 1.0261822938919067),\n",
       " ('Shot_80_-20_6', 1.0251730680465698),\n",
       " ('Shot_80_20_0', 1.0220991373062134),\n",
       " ('Penalty_20_-20_4', 1.0197227001190186),\n",
       " ('Penalty_70_-10_2', 1.0181987285614014),\n",
       " ('Shot_40_0_6', 1.0168901681900024),\n",
       " ('MissedShot_70_20_5', 1.0160764455795288),\n",
       " ('BlockedShot_30_-20_1', 1.016072392463684)]"
      ]
     },
     "execution_count": 15,
     "metadata": {},
     "output_type": "execute_result"
    }
   ],
   "source": [
    "model.most_similar_cosmul(positive=['Shot_20_0_1','Shot_20_10_1'], negative=['Hit_20_0_2'])"
   ]
  },
  {
   "cell_type": "code",
   "execution_count": 18,
   "metadata": {},
   "outputs": [],
   "source": [
    "from tensorflow.keras.preprocessing.sequence import pad_sequences"
   ]
  },
  {
   "cell_type": "code",
   "execution_count": 30,
   "metadata": {},
   "outputs": [
    {
     "name": "stderr",
     "output_type": "stream",
     "text": [
      "/home/kunalltiwari/.local/lib/python3.7/site-packages/ipykernel_launcher.py:1: DeprecationWarning: Call to deprecated `similarity` (Method will be removed in 4.0.0, use self.wv.similarity() instead).\n",
      "  \"\"\"Entry point for launching an IPython kernel.\n"
     ]
    },
    {
     "data": {
      "text/plain": [
       "0.27060172"
      ]
     },
     "execution_count": 30,
     "metadata": {},
     "output_type": "execute_result"
    }
   ],
   "source": [
    "model.similarity('Shot_50_-20_1', 'Goal_60_-10_0')"
   ]
  },
  {
   "cell_type": "code",
   "execution_count": 16,
   "metadata": {},
   "outputs": [],
   "source": [
    "from sklearn.decomposition import PCA\n",
    "import matplotlib.pyplot as plt"
   ]
  },
  {
   "cell_type": "code",
   "execution_count": 17,
   "metadata": {},
   "outputs": [
    {
     "name": "stderr",
     "output_type": "stream",
     "text": [
      "/home/kunalltiwari/.local/lib/python3.7/site-packages/ipykernel_launcher.py:2: DeprecationWarning: Call to deprecated `__getitem__` (Method will be removed in 4.0.0, use self.wv.__getitem__() instead).\n",
      "  \n"
     ]
    },
    {
     "data": {
      "image/png": "[encoded data removed]",
      "text/plain": [
       "<Figure size 432x288 with 1 Axes>"
      ]
     },
     "metadata": {
      "needs_background": "light"
     },
     "output_type": "display_data"
    }
   ],
   "source": [
    "pca = PCA(n_components=100)\n",
    "result = pca.fit_transform(model[model.wv.vocab])\n",
    "c1 = 1\n",
    "c2 = 0\n",
    "start_wordi = 2040\n",
    "stop_wordi = 2080\n",
    "plt.scatter(result[start_wordi:stop_wordi, c1], \n",
    "            result[start_wordi:stop_wordi, c2])\n",
    "words = list(model.wv.vocab)\n",
    "for i, word in enumerate(words[0:stop_wordi]):\n",
    "    if i >= start_wordi:\n",
    "        plt.annotate(word, xy=(result[i, c1], result[i, c2]))\n",
    "plt.show()"
   ]
  },
  {
   "cell_type": "code",
   "execution_count": null,
   "metadata": {},
   "outputs": [],
   "source": []
  }
 ],
 "metadata": {
  "kernelspec": {
   "display_name": "Python 3",
   "language": "python",
   "name": "python3"
  },
  "language_info": {
   "codemirror_mode": {
    "name": "ipython",
    "version": 3
   },
   "file_extension": ".py",
   "mimetype": "text/x-python",
   "name": "python",
   "nbconvert_exporter": "python",
   "pygments_lexer": "ipython3",
   "version": "3.6.2"
  }
 },
 "nbformat": 4,
 "nbformat_minor": 2
}
