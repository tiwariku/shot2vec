{
 "cells": [
  {
   "cell_type": "code",
   "execution_count": 1,
   "metadata": {},
   "outputs": [],
   "source": [
    "from requests_futures.sessions import FuturesSession\n",
    "from ediblepickle import checkpoint\n",
    "session = FuturesSession(max_workers=5)"
   ]
  },
  {
   "cell_type": "code",
   "execution_count": 2,
   "metadata": {},
   "outputs": [],
   "source": [
    "year = '2017'\n",
    "game_type = '02'\n",
    "game = '0090'\n",
    "game_ID = f'{year}{game_type}{game}'\n",
    "url = f'https://statsapi.web.nhl.com/api/v1/game/{game_ID}/feed/live'"
   ]
  },
  {
   "cell_type": "code",
   "execution_count": 3,
   "metadata": {},
   "outputs": [],
   "source": [
    "def get_games_futures(year,max_games = 1200):\n",
    "    '''\n",
    "        in: string year (4-digit required)\n",
    "        out: list of futures, one for each game that season, querying play-by-play data\n",
    "    '''\n",
    "    session = FuturesSession(max_workers=10)\n",
    "    game_numbers = range(1,max_games)\n",
    "    game_types = ['02',]\n",
    "    futures = []\n",
    "    for game_type in game_types:\n",
    "        for game_num in game_numbers:\n",
    "            game_number = str(game_num).zfill(4)\n",
    "            game_ID = f'{year}{game_type}{game_number}'\n",
    "            url = f'https://statsapi.web.nhl.com/api/v1/game/{game_ID}/feed/live'\n",
    "            futures.append(session.get(url))\n",
    "    return futures"
   ]
  },
  {
   "cell_type": "code",
   "execution_count": 4,
   "metadata": {},
   "outputs": [],
   "source": [
    "def get_plays(future):\n",
    "    '''\n",
    "        in: future, a request to a nhl game live-feed \n",
    "        out: a list of plays from the game, where each play is a dictionary\n",
    "            or None if no game\n",
    "    '''\n",
    "    d = future.result().json()\n",
    "    if 'liveData' in d.keys():\n",
    "        return [play for play in d['liveData']['plays']['allPlays']]\n",
    "    else:\n",
    "        return None\n",
    "    "
   ]
  },
  {
   "cell_type": "code",
   "execution_count": 5,
   "metadata": {},
   "outputs": [],
   "source": [
    "@checkpoint(key = lambda args, kwargs: (str(args[0])+'.p').encode(),\n",
    "                work_dir='./cache'.encode(), \n",
    "                refresh=False)\n",
    "def get_games_plays(year, futures=None):\n",
    "    '''\n",
    "        in: list of futures requesting nhl game live-feeds\n",
    "        out: list of lists (one for each game) where inner list contains plays\n",
    "    '''\n",
    "    if not futures:\n",
    "        futures = get_games_futures(year)\n",
    "        print(f'{year} games')\n",
    "    games_plays = []\n",
    "    for i, future in enumerate(futures):\n",
    "        if i%100 == 0:\n",
    "            print(f'\\tgame {i}')\n",
    "        plays = get_plays(future)\n",
    "        if plays:\n",
    "            games_plays.append(plays)\n",
    "    return games_plays"
   ]
  },
  {
   "cell_type": "code",
   "execution_count": 6,
   "metadata": {},
   "outputs": [],
   "source": [
    "def strip_event(play):\n",
    "    '''\n",
    "        in: full json for a play from nhl api\n",
    "        out: bare bones dictionary with some features\n",
    "    '''\n",
    "    def getcoords(play_coordinates, sbin = 10):\n",
    "        if not ('x' in play_coordinates.keys() \n",
    "                or 'y' in play_coordinates.keys()):\n",
    "            return None\n",
    "        x = None\n",
    "        y = None\n",
    "        if 'x' in play_coordinates.keys():\n",
    "            x = int(play_coordinates['x']/sbin)*sbin\n",
    "        if 'y' in play_coordinates.keys():\n",
    "            y = int(play_coordinates['y']/sbin)*sbin\n",
    "        if x or y:\n",
    "            return (x, y)\n",
    "        else:\n",
    "            return None\n",
    "    event = {}\n",
    "    event['Type'] = ''.join(play['result']['event'].split())\n",
    "    event['Coords'] = getcoords(play['coordinates'])\n",
    "    event['periodTime'] = (int(play['about']['periodTime'][0:2])*60+\n",
    "                           int(play['about']['periodTime'][3:]))\n",
    "    return event"
   ]
  },
  {
   "cell_type": "code",
   "execution_count": 7,
   "metadata": {},
   "outputs": [],
   "source": [
    "import numpy as np\n",
    "def make_delta_time(game_events):\n",
    "    '''\n",
    "    in: a game's worth of plays\n",
    "    out: modified list with feature expansion for time since last play\n",
    "    '''\n",
    "    def bin_DT(deltaTime):\n",
    "        if deltaTime == 0:\n",
    "            return -1\n",
    "        else:\n",
    "            return int(np.log2(deltaTime))\n",
    "    for i, play in enumerate(game_events):\n",
    "        if play['periodTime'] == 0:\n",
    "            play['DeltaTime'] = -1\n",
    "        else:\n",
    "            play['DeltaTime'] = bin_DT(play['periodTime']-\n",
    "                                       game_events[i-1]['periodTime'])"
   ]
  },
  {
   "cell_type": "code",
   "execution_count": 8,
   "metadata": {},
   "outputs": [],
   "source": [
    "def strip_game_events(plays):\n",
    "    '''\n",
    "    in game, list of plays in nhl api json format\n",
    "    out game, list of events in stripped dictionary format\n",
    "    '''\n",
    "    return [strip_event(play) for play in plays]"
   ]
  },
  {
   "cell_type": "code",
   "execution_count": 9,
   "metadata": {},
   "outputs": [],
   "source": [
    "def process_games_plays(games):\n",
    "    '''\n",
    "    in: list of lists of plays\n",
    "    out: list lists of stripped plays for each game\n",
    "    '''\n",
    "    games_stripped = [strip_game_events(game) for game in games]\n",
    "    for game in games_stripped:\n",
    "        make_delta_time(game)\n",
    "    return games_stripped"
   ]
  },
  {
   "cell_type": "code",
   "execution_count": 10,
   "metadata": {},
   "outputs": [],
   "source": [
    "def make_event_string(event):\n",
    "    '''\n",
    "    in: stripped event\n",
    "    out: string\n",
    "    '''\n",
    "    coordstring = 'nocoords'\n",
    "    if event['Coords']:\n",
    "        coordstring = '{}_{}'.format(event['Coords'][0],\n",
    "                                     event['Coords'][1])\n",
    "        \n",
    "    return '{}_{}_{}'.format(event['Type'],\n",
    "                                coordstring,\n",
    "                                event['DeltaTime'])"
   ]
  },
  {
   "cell_type": "code",
   "execution_count": 11,
   "metadata": {},
   "outputs": [],
   "source": [
    "def games_to_corpus(games):\n",
    "    '''\n",
    "    in: a list of games in stripped/processed format\n",
    "    out: a list of strings, one for each game, with each event \n",
    "        represented as a 'word' without whitespace\n",
    "    '''\n",
    "    corpus = []\n",
    "    for game in games:\n",
    "        events_string_list = []\n",
    "        for event in game:\n",
    "            events_string_list.append(make_event_string(event))\n",
    "        corpus.append(' '.join(events_string_list))\n",
    "    return corpus"
   ]
  },
  {
   "cell_type": "code",
   "execution_count": 17,
   "metadata": {},
   "outputs": [
    {
     "name": "stdout",
     "output_type": "stream",
     "text": [
      "2016 games\n",
      "\tgame 0\n"
     ]
    },
    {
     "ename": "ConnectionError",
     "evalue": "HTTPSConnectionPool(host='statsapi.web.nhl.com', port=443): Max retries exceeded with url: /api/v1/game/2016020001/feed/live (Caused by NewConnectionError('<urllib3.connection.VerifiedHTTPSConnection object at 0x7f32f05ad0f0>: Failed to establish a new connection: [Errno -3] Temporary failure in name resolution'))",
     "output_type": "error",
     "traceback": [
      "\u001b[0;31m---------------------------------------------------------------------------\u001b[0m",
      "\u001b[0;31mgaierror\u001b[0m                                  Traceback (most recent call last)",
      "\u001b[0;32m/usr/lib/python3/dist-packages/urllib3/connection.py\u001b[0m in \u001b[0;36m_new_conn\u001b[0;34m(self)\u001b[0m\n\u001b[1;32m    158\u001b[0m             conn = connection.create_connection(\n\u001b[0;32m--> 159\u001b[0;31m                 (self._dns_host, self.port), self.timeout, **extra_kw)\n\u001b[0m\u001b[1;32m    160\u001b[0m \u001b[0;34m\u001b[0m\u001b[0m\n",
      "\u001b[0;32m/usr/lib/python3/dist-packages/urllib3/util/connection.py\u001b[0m in \u001b[0;36mcreate_connection\u001b[0;34m(address, timeout, source_address, socket_options)\u001b[0m\n\u001b[1;32m     56\u001b[0m \u001b[0;34m\u001b[0m\u001b[0m\n\u001b[0;32m---> 57\u001b[0;31m     \u001b[0;32mfor\u001b[0m \u001b[0mres\u001b[0m \u001b[0;32min\u001b[0m \u001b[0msocket\u001b[0m\u001b[0;34m.\u001b[0m\u001b[0mgetaddrinfo\u001b[0m\u001b[0;34m(\u001b[0m\u001b[0mhost\u001b[0m\u001b[0;34m,\u001b[0m \u001b[0mport\u001b[0m\u001b[0;34m,\u001b[0m \u001b[0mfamily\u001b[0m\u001b[0;34m,\u001b[0m \u001b[0msocket\u001b[0m\u001b[0;34m.\u001b[0m\u001b[0mSOCK_STREAM\u001b[0m\u001b[0;34m)\u001b[0m\u001b[0;34m:\u001b[0m\u001b[0;34m\u001b[0m\u001b[0;34m\u001b[0m\u001b[0m\n\u001b[0m\u001b[1;32m     58\u001b[0m         \u001b[0maf\u001b[0m\u001b[0;34m,\u001b[0m \u001b[0msocktype\u001b[0m\u001b[0;34m,\u001b[0m \u001b[0mproto\u001b[0m\u001b[0;34m,\u001b[0m \u001b[0mcanonname\u001b[0m\u001b[0;34m,\u001b[0m \u001b[0msa\u001b[0m \u001b[0;34m=\u001b[0m \u001b[0mres\u001b[0m\u001b[0;34m\u001b[0m\u001b[0;34m\u001b[0m\u001b[0m\n",
      "\u001b[0;32m/usr/lib/python3.7/socket.py\u001b[0m in \u001b[0;36mgetaddrinfo\u001b[0;34m(host, port, family, type, proto, flags)\u001b[0m\n\u001b[1;32m    747\u001b[0m     \u001b[0maddrlist\u001b[0m \u001b[0;34m=\u001b[0m \u001b[0;34m[\u001b[0m\u001b[0;34m]\u001b[0m\u001b[0;34m\u001b[0m\u001b[0;34m\u001b[0m\u001b[0m\n\u001b[0;32m--> 748\u001b[0;31m     \u001b[0;32mfor\u001b[0m \u001b[0mres\u001b[0m \u001b[0;32min\u001b[0m \u001b[0m_socket\u001b[0m\u001b[0;34m.\u001b[0m\u001b[0mgetaddrinfo\u001b[0m\u001b[0;34m(\u001b[0m\u001b[0mhost\u001b[0m\u001b[0;34m,\u001b[0m \u001b[0mport\u001b[0m\u001b[0;34m,\u001b[0m \u001b[0mfamily\u001b[0m\u001b[0;34m,\u001b[0m \u001b[0mtype\u001b[0m\u001b[0;34m,\u001b[0m \u001b[0mproto\u001b[0m\u001b[0;34m,\u001b[0m \u001b[0mflags\u001b[0m\u001b[0;34m)\u001b[0m\u001b[0;34m:\u001b[0m\u001b[0;34m\u001b[0m\u001b[0;34m\u001b[0m\u001b[0m\n\u001b[0m\u001b[1;32m    749\u001b[0m         \u001b[0maf\u001b[0m\u001b[0;34m,\u001b[0m \u001b[0msocktype\u001b[0m\u001b[0;34m,\u001b[0m \u001b[0mproto\u001b[0m\u001b[0;34m,\u001b[0m \u001b[0mcanonname\u001b[0m\u001b[0;34m,\u001b[0m \u001b[0msa\u001b[0m \u001b[0;34m=\u001b[0m \u001b[0mres\u001b[0m\u001b[0;34m\u001b[0m\u001b[0;34m\u001b[0m\u001b[0m\n",
      "\u001b[0;31mgaierror\u001b[0m: [Errno -3] Temporary failure in name resolution",
      "\nDuring handling of the above exception, another exception occurred:\n",
      "\u001b[0;31mNewConnectionError\u001b[0m                        Traceback (most recent call last)",
      "\u001b[0;32m/usr/lib/python3/dist-packages/urllib3/connectionpool.py\u001b[0m in \u001b[0;36murlopen\u001b[0;34m(self, method, url, body, headers, retries, redirect, assert_same_host, timeout, pool_timeout, release_conn, chunked, body_pos, **response_kw)\u001b[0m\n\u001b[1;32m    599\u001b[0m                                                   \u001b[0mbody\u001b[0m\u001b[0;34m=\u001b[0m\u001b[0mbody\u001b[0m\u001b[0;34m,\u001b[0m \u001b[0mheaders\u001b[0m\u001b[0;34m=\u001b[0m\u001b[0mheaders\u001b[0m\u001b[0;34m,\u001b[0m\u001b[0;34m\u001b[0m\u001b[0;34m\u001b[0m\u001b[0m\n\u001b[0;32m--> 600\u001b[0;31m                                                   chunked=chunked)\n\u001b[0m\u001b[1;32m    601\u001b[0m \u001b[0;34m\u001b[0m\u001b[0m\n",
      "\u001b[0;32m/usr/lib/python3/dist-packages/urllib3/connectionpool.py\u001b[0m in \u001b[0;36m_make_request\u001b[0;34m(self, conn, method, url, timeout, chunked, **httplib_request_kw)\u001b[0m\n\u001b[1;32m    342\u001b[0m         \u001b[0;32mtry\u001b[0m\u001b[0;34m:\u001b[0m\u001b[0;34m\u001b[0m\u001b[0;34m\u001b[0m\u001b[0m\n\u001b[0;32m--> 343\u001b[0;31m             \u001b[0mself\u001b[0m\u001b[0;34m.\u001b[0m\u001b[0m_validate_conn\u001b[0m\u001b[0;34m(\u001b[0m\u001b[0mconn\u001b[0m\u001b[0;34m)\u001b[0m\u001b[0;34m\u001b[0m\u001b[0;34m\u001b[0m\u001b[0m\n\u001b[0m\u001b[1;32m    344\u001b[0m         \u001b[0;32mexcept\u001b[0m \u001b[0;34m(\u001b[0m\u001b[0mSocketTimeout\u001b[0m\u001b[0;34m,\u001b[0m \u001b[0mBaseSSLError\u001b[0m\u001b[0;34m)\u001b[0m \u001b[0;32mas\u001b[0m \u001b[0me\u001b[0m\u001b[0;34m:\u001b[0m\u001b[0;34m\u001b[0m\u001b[0;34m\u001b[0m\u001b[0m\n",
      "\u001b[0;32m/usr/lib/python3/dist-packages/urllib3/connectionpool.py\u001b[0m in \u001b[0;36m_validate_conn\u001b[0;34m(self, conn)\u001b[0m\n\u001b[1;32m    840\u001b[0m         \u001b[0;32mif\u001b[0m \u001b[0;32mnot\u001b[0m \u001b[0mgetattr\u001b[0m\u001b[0;34m(\u001b[0m\u001b[0mconn\u001b[0m\u001b[0;34m,\u001b[0m \u001b[0;34m'sock'\u001b[0m\u001b[0;34m,\u001b[0m \u001b[0;32mNone\u001b[0m\u001b[0;34m)\u001b[0m\u001b[0;34m:\u001b[0m  \u001b[0;31m# AppEngine might not have  `.sock`\u001b[0m\u001b[0;34m\u001b[0m\u001b[0;34m\u001b[0m\u001b[0m\n\u001b[0;32m--> 841\u001b[0;31m             \u001b[0mconn\u001b[0m\u001b[0;34m.\u001b[0m\u001b[0mconnect\u001b[0m\u001b[0;34m(\u001b[0m\u001b[0;34m)\u001b[0m\u001b[0;34m\u001b[0m\u001b[0;34m\u001b[0m\u001b[0m\n\u001b[0m\u001b[1;32m    842\u001b[0m \u001b[0;34m\u001b[0m\u001b[0m\n",
      "\u001b[0;32m/usr/lib/python3/dist-packages/urllib3/connection.py\u001b[0m in \u001b[0;36mconnect\u001b[0;34m(self)\u001b[0m\n\u001b[1;32m    300\u001b[0m         \u001b[0;31m# Add certificate verification\u001b[0m\u001b[0;34m\u001b[0m\u001b[0;34m\u001b[0m\u001b[0;34m\u001b[0m\u001b[0m\n\u001b[0;32m--> 301\u001b[0;31m         \u001b[0mconn\u001b[0m \u001b[0;34m=\u001b[0m \u001b[0mself\u001b[0m\u001b[0;34m.\u001b[0m\u001b[0m_new_conn\u001b[0m\u001b[0;34m(\u001b[0m\u001b[0;34m)\u001b[0m\u001b[0;34m\u001b[0m\u001b[0;34m\u001b[0m\u001b[0m\n\u001b[0m\u001b[1;32m    302\u001b[0m         \u001b[0mhostname\u001b[0m \u001b[0;34m=\u001b[0m \u001b[0mself\u001b[0m\u001b[0;34m.\u001b[0m\u001b[0mhost\u001b[0m\u001b[0;34m\u001b[0m\u001b[0;34m\u001b[0m\u001b[0m\n",
      "\u001b[0;32m/usr/lib/python3/dist-packages/urllib3/connection.py\u001b[0m in \u001b[0;36m_new_conn\u001b[0;34m(self)\u001b[0m\n\u001b[1;32m    167\u001b[0m             raise NewConnectionError(\n\u001b[0;32m--> 168\u001b[0;31m                 self, \"Failed to establish a new connection: %s\" % e)\n\u001b[0m\u001b[1;32m    169\u001b[0m \u001b[0;34m\u001b[0m\u001b[0m\n",
      "\u001b[0;31mNewConnectionError\u001b[0m: <urllib3.connection.VerifiedHTTPSConnection object at 0x7f32f05ad0f0>: Failed to establish a new connection: [Errno -3] Temporary failure in name resolution",
      "\nDuring handling of the above exception, another exception occurred:\n",
      "\u001b[0;31mMaxRetryError\u001b[0m                             Traceback (most recent call last)",
      "\u001b[0;32m/usr/lib/python3/dist-packages/requests/adapters.py\u001b[0m in \u001b[0;36msend\u001b[0;34m(self, request, stream, timeout, verify, cert, proxies)\u001b[0m\n\u001b[1;32m    448\u001b[0m                     \u001b[0mretries\u001b[0m\u001b[0;34m=\u001b[0m\u001b[0mself\u001b[0m\u001b[0;34m.\u001b[0m\u001b[0mmax_retries\u001b[0m\u001b[0;34m,\u001b[0m\u001b[0;34m\u001b[0m\u001b[0;34m\u001b[0m\u001b[0m\n\u001b[0;32m--> 449\u001b[0;31m                     \u001b[0mtimeout\u001b[0m\u001b[0;34m=\u001b[0m\u001b[0mtimeout\u001b[0m\u001b[0;34m\u001b[0m\u001b[0;34m\u001b[0m\u001b[0m\n\u001b[0m\u001b[1;32m    450\u001b[0m                 )\n",
      "\u001b[0;32m/usr/lib/python3/dist-packages/urllib3/connectionpool.py\u001b[0m in \u001b[0;36murlopen\u001b[0;34m(self, method, url, body, headers, retries, redirect, assert_same_host, timeout, pool_timeout, release_conn, chunked, body_pos, **response_kw)\u001b[0m\n\u001b[1;32m    637\u001b[0m             retries = retries.increment(method, url, error=e, _pool=self,\n\u001b[0;32m--> 638\u001b[0;31m                                         _stacktrace=sys.exc_info()[2])\n\u001b[0m\u001b[1;32m    639\u001b[0m             \u001b[0mretries\u001b[0m\u001b[0;34m.\u001b[0m\u001b[0msleep\u001b[0m\u001b[0;34m(\u001b[0m\u001b[0;34m)\u001b[0m\u001b[0;34m\u001b[0m\u001b[0;34m\u001b[0m\u001b[0m\n",
      "\u001b[0;32m/usr/lib/python3/dist-packages/urllib3/util/retry.py\u001b[0m in \u001b[0;36mincrement\u001b[0;34m(self, method, url, response, error, _pool, _stacktrace)\u001b[0m\n\u001b[1;32m    397\u001b[0m         \u001b[0;32mif\u001b[0m \u001b[0mnew_retry\u001b[0m\u001b[0;34m.\u001b[0m\u001b[0mis_exhausted\u001b[0m\u001b[0;34m(\u001b[0m\u001b[0;34m)\u001b[0m\u001b[0;34m:\u001b[0m\u001b[0;34m\u001b[0m\u001b[0;34m\u001b[0m\u001b[0m\n\u001b[0;32m--> 398\u001b[0;31m             \u001b[0;32mraise\u001b[0m \u001b[0mMaxRetryError\u001b[0m\u001b[0;34m(\u001b[0m\u001b[0m_pool\u001b[0m\u001b[0;34m,\u001b[0m \u001b[0murl\u001b[0m\u001b[0;34m,\u001b[0m \u001b[0merror\u001b[0m \u001b[0;32mor\u001b[0m \u001b[0mResponseError\u001b[0m\u001b[0;34m(\u001b[0m\u001b[0mcause\u001b[0m\u001b[0;34m)\u001b[0m\u001b[0;34m)\u001b[0m\u001b[0;34m\u001b[0m\u001b[0;34m\u001b[0m\u001b[0m\n\u001b[0m\u001b[1;32m    399\u001b[0m \u001b[0;34m\u001b[0m\u001b[0m\n",
      "\u001b[0;31mMaxRetryError\u001b[0m: HTTPSConnectionPool(host='statsapi.web.nhl.com', port=443): Max retries exceeded with url: /api/v1/game/2016020001/feed/live (Caused by NewConnectionError('<urllib3.connection.VerifiedHTTPSConnection object at 0x7f32f05ad0f0>: Failed to establish a new connection: [Errno -3] Temporary failure in name resolution'))",
      "\nDuring handling of the above exception, another exception occurred:\n",
      "\u001b[0;31mConnectionError\u001b[0m                           Traceback (most recent call last)",
      "\u001b[0;32m<ipython-input-17-b9b1cbb9a5fb>\u001b[0m in \u001b[0;36m<module>\u001b[0;34m\u001b[0m\n\u001b[1;32m      2\u001b[0m \u001b[0;31m#games_plays = []\u001b[0m\u001b[0;34m\u001b[0m\u001b[0;34m\u001b[0m\u001b[0;34m\u001b[0m\u001b[0m\n\u001b[1;32m      3\u001b[0m \u001b[0;32mfor\u001b[0m \u001b[0myear\u001b[0m \u001b[0;32min\u001b[0m \u001b[0mrange\u001b[0m\u001b[0;34m(\u001b[0m\u001b[0;36m2014\u001b[0m\u001b[0;34m,\u001b[0m\u001b[0;36m2019\u001b[0m\u001b[0;34m)\u001b[0m\u001b[0;34m:\u001b[0m\u001b[0;34m\u001b[0m\u001b[0;34m\u001b[0m\u001b[0m\n\u001b[0;32m----> 4\u001b[0;31m     \u001b[0mget_games_plays\u001b[0m\u001b[0;34m(\u001b[0m\u001b[0myear\u001b[0m\u001b[0;34m)\u001b[0m\u001b[0;34m\u001b[0m\u001b[0;34m\u001b[0m\u001b[0m\n\u001b[0m",
      "\u001b[0;32m~/.local/lib/python3.7/site-packages/ediblepickle.py\u001b[0m in \u001b[0;36mwrapped\u001b[0;34m(*args, **kwargs)\u001b[0m\n\u001b[1;32m    155\u001b[0m                 \u001b[0;31m# If the program fails, don't checkpoint.\u001b[0m\u001b[0;34m\u001b[0m\u001b[0;34m\u001b[0m\u001b[0;34m\u001b[0m\u001b[0m\n\u001b[1;32m    156\u001b[0m                 \u001b[0;32mtry\u001b[0m\u001b[0;34m:\u001b[0m\u001b[0;34m\u001b[0m\u001b[0;34m\u001b[0m\u001b[0m\n\u001b[0;32m--> 157\u001b[0;31m                     \u001b[0mout\u001b[0m \u001b[0;34m=\u001b[0m \u001b[0mfunc\u001b[0m\u001b[0;34m(\u001b[0m\u001b[0;34m*\u001b[0m\u001b[0margs\u001b[0m\u001b[0;34m,\u001b[0m \u001b[0;34m**\u001b[0m\u001b[0mkwargs\u001b[0m\u001b[0;34m)\u001b[0m\u001b[0;34m\u001b[0m\u001b[0;34m\u001b[0m\u001b[0m\n\u001b[0m\u001b[1;32m    158\u001b[0m                 \u001b[0;32mexcept\u001b[0m\u001b[0;34m:\u001b[0m \u001b[0;31m# a blank raise re-raises the last exception.\u001b[0m\u001b[0;34m\u001b[0m\u001b[0;34m\u001b[0m\u001b[0m\n\u001b[1;32m    159\u001b[0m                     \u001b[0;32mraise\u001b[0m\u001b[0;34m\u001b[0m\u001b[0;34m\u001b[0m\u001b[0m\n",
      "\u001b[0;32m<ipython-input-5-f012007116bb>\u001b[0m in \u001b[0;36mget_games_plays\u001b[0;34m(year, futures)\u001b[0m\n\u001b[1;32m     14\u001b[0m         \u001b[0;32mif\u001b[0m \u001b[0mi\u001b[0m\u001b[0;34m%\u001b[0m\u001b[0;36m100\u001b[0m \u001b[0;34m==\u001b[0m \u001b[0;36m0\u001b[0m\u001b[0;34m:\u001b[0m\u001b[0;34m\u001b[0m\u001b[0;34m\u001b[0m\u001b[0m\n\u001b[1;32m     15\u001b[0m             \u001b[0mprint\u001b[0m\u001b[0;34m(\u001b[0m\u001b[0;34mf'\\tgame {i}'\u001b[0m\u001b[0;34m)\u001b[0m\u001b[0;34m\u001b[0m\u001b[0;34m\u001b[0m\u001b[0m\n\u001b[0;32m---> 16\u001b[0;31m         \u001b[0mplays\u001b[0m \u001b[0;34m=\u001b[0m \u001b[0mget_plays\u001b[0m\u001b[0;34m(\u001b[0m\u001b[0mfuture\u001b[0m\u001b[0;34m)\u001b[0m\u001b[0;34m\u001b[0m\u001b[0;34m\u001b[0m\u001b[0m\n\u001b[0m\u001b[1;32m     17\u001b[0m         \u001b[0;32mif\u001b[0m \u001b[0mplays\u001b[0m\u001b[0;34m:\u001b[0m\u001b[0;34m\u001b[0m\u001b[0;34m\u001b[0m\u001b[0m\n\u001b[1;32m     18\u001b[0m             \u001b[0mgames_plays\u001b[0m\u001b[0;34m.\u001b[0m\u001b[0mappend\u001b[0m\u001b[0;34m(\u001b[0m\u001b[0mplays\u001b[0m\u001b[0;34m)\u001b[0m\u001b[0;34m\u001b[0m\u001b[0;34m\u001b[0m\u001b[0m\n",
      "\u001b[0;32m<ipython-input-4-186568dfb811>\u001b[0m in \u001b[0;36mget_plays\u001b[0;34m(future)\u001b[0m\n\u001b[1;32m      5\u001b[0m             \u001b[0;32mor\u001b[0m \u001b[0;32mNone\u001b[0m \u001b[0;32mif\u001b[0m \u001b[0mno\u001b[0m \u001b[0mgame\u001b[0m\u001b[0;34m\u001b[0m\u001b[0;34m\u001b[0m\u001b[0m\n\u001b[1;32m      6\u001b[0m     '''\n\u001b[0;32m----> 7\u001b[0;31m     \u001b[0md\u001b[0m \u001b[0;34m=\u001b[0m \u001b[0mfuture\u001b[0m\u001b[0;34m.\u001b[0m\u001b[0mresult\u001b[0m\u001b[0;34m(\u001b[0m\u001b[0;34m)\u001b[0m\u001b[0;34m.\u001b[0m\u001b[0mjson\u001b[0m\u001b[0;34m(\u001b[0m\u001b[0;34m)\u001b[0m\u001b[0;34m\u001b[0m\u001b[0;34m\u001b[0m\u001b[0m\n\u001b[0m\u001b[1;32m      8\u001b[0m     \u001b[0;32mif\u001b[0m \u001b[0;34m'liveData'\u001b[0m \u001b[0;32min\u001b[0m \u001b[0md\u001b[0m\u001b[0;34m.\u001b[0m\u001b[0mkeys\u001b[0m\u001b[0;34m(\u001b[0m\u001b[0;34m)\u001b[0m\u001b[0;34m:\u001b[0m\u001b[0;34m\u001b[0m\u001b[0;34m\u001b[0m\u001b[0m\n\u001b[1;32m      9\u001b[0m         \u001b[0;32mreturn\u001b[0m \u001b[0;34m[\u001b[0m\u001b[0mplay\u001b[0m \u001b[0;32mfor\u001b[0m \u001b[0mplay\u001b[0m \u001b[0;32min\u001b[0m \u001b[0md\u001b[0m\u001b[0;34m[\u001b[0m\u001b[0;34m'liveData'\u001b[0m\u001b[0;34m]\u001b[0m\u001b[0;34m[\u001b[0m\u001b[0;34m'plays'\u001b[0m\u001b[0;34m]\u001b[0m\u001b[0;34m[\u001b[0m\u001b[0;34m'allPlays'\u001b[0m\u001b[0;34m]\u001b[0m\u001b[0;34m]\u001b[0m\u001b[0;34m\u001b[0m\u001b[0;34m\u001b[0m\u001b[0m\n",
      "\u001b[0;32m/usr/lib/python3.7/concurrent/futures/_base.py\u001b[0m in \u001b[0;36mresult\u001b[0;34m(self, timeout)\u001b[0m\n\u001b[1;32m    423\u001b[0m                 \u001b[0;32mraise\u001b[0m \u001b[0mCancelledError\u001b[0m\u001b[0;34m(\u001b[0m\u001b[0;34m)\u001b[0m\u001b[0;34m\u001b[0m\u001b[0;34m\u001b[0m\u001b[0m\n\u001b[1;32m    424\u001b[0m             \u001b[0;32melif\u001b[0m \u001b[0mself\u001b[0m\u001b[0;34m.\u001b[0m\u001b[0m_state\u001b[0m \u001b[0;34m==\u001b[0m \u001b[0mFINISHED\u001b[0m\u001b[0;34m:\u001b[0m\u001b[0;34m\u001b[0m\u001b[0;34m\u001b[0m\u001b[0m\n\u001b[0;32m--> 425\u001b[0;31m                 \u001b[0;32mreturn\u001b[0m \u001b[0mself\u001b[0m\u001b[0;34m.\u001b[0m\u001b[0m__get_result\u001b[0m\u001b[0;34m(\u001b[0m\u001b[0;34m)\u001b[0m\u001b[0;34m\u001b[0m\u001b[0;34m\u001b[0m\u001b[0m\n\u001b[0m\u001b[1;32m    426\u001b[0m \u001b[0;34m\u001b[0m\u001b[0m\n\u001b[1;32m    427\u001b[0m             \u001b[0mself\u001b[0m\u001b[0;34m.\u001b[0m\u001b[0m_condition\u001b[0m\u001b[0;34m.\u001b[0m\u001b[0mwait\u001b[0m\u001b[0;34m(\u001b[0m\u001b[0mtimeout\u001b[0m\u001b[0;34m)\u001b[0m\u001b[0;34m\u001b[0m\u001b[0;34m\u001b[0m\u001b[0m\n",
      "\u001b[0;32m/usr/lib/python3.7/concurrent/futures/_base.py\u001b[0m in \u001b[0;36m__get_result\u001b[0;34m(self)\u001b[0m\n\u001b[1;32m    382\u001b[0m     \u001b[0;32mdef\u001b[0m \u001b[0m__get_result\u001b[0m\u001b[0;34m(\u001b[0m\u001b[0mself\u001b[0m\u001b[0;34m)\u001b[0m\u001b[0;34m:\u001b[0m\u001b[0;34m\u001b[0m\u001b[0;34m\u001b[0m\u001b[0m\n\u001b[1;32m    383\u001b[0m         \u001b[0;32mif\u001b[0m \u001b[0mself\u001b[0m\u001b[0;34m.\u001b[0m\u001b[0m_exception\u001b[0m\u001b[0;34m:\u001b[0m\u001b[0;34m\u001b[0m\u001b[0;34m\u001b[0m\u001b[0m\n\u001b[0;32m--> 384\u001b[0;31m             \u001b[0;32mraise\u001b[0m \u001b[0mself\u001b[0m\u001b[0;34m.\u001b[0m\u001b[0m_exception\u001b[0m\u001b[0;34m\u001b[0m\u001b[0;34m\u001b[0m\u001b[0m\n\u001b[0m\u001b[1;32m    385\u001b[0m         \u001b[0;32melse\u001b[0m\u001b[0;34m:\u001b[0m\u001b[0;34m\u001b[0m\u001b[0;34m\u001b[0m\u001b[0m\n\u001b[1;32m    386\u001b[0m             \u001b[0;32mreturn\u001b[0m \u001b[0mself\u001b[0m\u001b[0;34m.\u001b[0m\u001b[0m_result\u001b[0m\u001b[0;34m\u001b[0m\u001b[0;34m\u001b[0m\u001b[0m\n",
      "\u001b[0;32m/usr/lib/python3.7/concurrent/futures/thread.py\u001b[0m in \u001b[0;36mrun\u001b[0;34m(self)\u001b[0m\n\u001b[1;32m     55\u001b[0m \u001b[0;34m\u001b[0m\u001b[0m\n\u001b[1;32m     56\u001b[0m         \u001b[0;32mtry\u001b[0m\u001b[0;34m:\u001b[0m\u001b[0;34m\u001b[0m\u001b[0;34m\u001b[0m\u001b[0m\n\u001b[0;32m---> 57\u001b[0;31m             \u001b[0mresult\u001b[0m \u001b[0;34m=\u001b[0m \u001b[0mself\u001b[0m\u001b[0;34m.\u001b[0m\u001b[0mfn\u001b[0m\u001b[0;34m(\u001b[0m\u001b[0;34m*\u001b[0m\u001b[0mself\u001b[0m\u001b[0;34m.\u001b[0m\u001b[0margs\u001b[0m\u001b[0;34m,\u001b[0m \u001b[0;34m**\u001b[0m\u001b[0mself\u001b[0m\u001b[0;34m.\u001b[0m\u001b[0mkwargs\u001b[0m\u001b[0;34m)\u001b[0m\u001b[0;34m\u001b[0m\u001b[0;34m\u001b[0m\u001b[0m\n\u001b[0m\u001b[1;32m     58\u001b[0m         \u001b[0;32mexcept\u001b[0m \u001b[0mBaseException\u001b[0m \u001b[0;32mas\u001b[0m \u001b[0mexc\u001b[0m\u001b[0;34m:\u001b[0m\u001b[0;34m\u001b[0m\u001b[0;34m\u001b[0m\u001b[0m\n\u001b[1;32m     59\u001b[0m             \u001b[0mself\u001b[0m\u001b[0;34m.\u001b[0m\u001b[0mfuture\u001b[0m\u001b[0;34m.\u001b[0m\u001b[0mset_exception\u001b[0m\u001b[0;34m(\u001b[0m\u001b[0mexc\u001b[0m\u001b[0;34m)\u001b[0m\u001b[0;34m\u001b[0m\u001b[0;34m\u001b[0m\u001b[0m\n",
      "\u001b[0;32m/usr/lib/python3/dist-packages/requests/sessions.py\u001b[0m in \u001b[0;36mrequest\u001b[0;34m(self, method, url, params, data, headers, cookies, files, auth, timeout, allow_redirects, proxies, hooks, stream, verify, cert, json)\u001b[0m\n\u001b[1;32m    531\u001b[0m         }\n\u001b[1;32m    532\u001b[0m         \u001b[0msend_kwargs\u001b[0m\u001b[0;34m.\u001b[0m\u001b[0mupdate\u001b[0m\u001b[0;34m(\u001b[0m\u001b[0msettings\u001b[0m\u001b[0;34m)\u001b[0m\u001b[0;34m\u001b[0m\u001b[0;34m\u001b[0m\u001b[0m\n\u001b[0;32m--> 533\u001b[0;31m         \u001b[0mresp\u001b[0m \u001b[0;34m=\u001b[0m \u001b[0mself\u001b[0m\u001b[0;34m.\u001b[0m\u001b[0msend\u001b[0m\u001b[0;34m(\u001b[0m\u001b[0mprep\u001b[0m\u001b[0;34m,\u001b[0m \u001b[0;34m**\u001b[0m\u001b[0msend_kwargs\u001b[0m\u001b[0;34m)\u001b[0m\u001b[0;34m\u001b[0m\u001b[0;34m\u001b[0m\u001b[0m\n\u001b[0m\u001b[1;32m    534\u001b[0m \u001b[0;34m\u001b[0m\u001b[0m\n\u001b[1;32m    535\u001b[0m         \u001b[0;32mreturn\u001b[0m \u001b[0mresp\u001b[0m\u001b[0;34m\u001b[0m\u001b[0;34m\u001b[0m\u001b[0m\n",
      "\u001b[0;32m/usr/lib/python3/dist-packages/requests/sessions.py\u001b[0m in \u001b[0;36msend\u001b[0;34m(self, request, **kwargs)\u001b[0m\n\u001b[1;32m    644\u001b[0m \u001b[0;34m\u001b[0m\u001b[0m\n\u001b[1;32m    645\u001b[0m         \u001b[0;31m# Send the request\u001b[0m\u001b[0;34m\u001b[0m\u001b[0;34m\u001b[0m\u001b[0;34m\u001b[0m\u001b[0m\n\u001b[0;32m--> 646\u001b[0;31m         \u001b[0mr\u001b[0m \u001b[0;34m=\u001b[0m \u001b[0madapter\u001b[0m\u001b[0;34m.\u001b[0m\u001b[0msend\u001b[0m\u001b[0;34m(\u001b[0m\u001b[0mrequest\u001b[0m\u001b[0;34m,\u001b[0m \u001b[0;34m**\u001b[0m\u001b[0mkwargs\u001b[0m\u001b[0;34m)\u001b[0m\u001b[0;34m\u001b[0m\u001b[0;34m\u001b[0m\u001b[0m\n\u001b[0m\u001b[1;32m    647\u001b[0m \u001b[0;34m\u001b[0m\u001b[0m\n\u001b[1;32m    648\u001b[0m         \u001b[0;31m# Total elapsed time of the request (approximately)\u001b[0m\u001b[0;34m\u001b[0m\u001b[0;34m\u001b[0m\u001b[0;34m\u001b[0m\u001b[0m\n",
      "\u001b[0;32m/usr/lib/python3/dist-packages/requests/adapters.py\u001b[0m in \u001b[0;36msend\u001b[0;34m(self, request, stream, timeout, verify, cert, proxies)\u001b[0m\n\u001b[1;32m    514\u001b[0m                 \u001b[0;32mraise\u001b[0m \u001b[0mSSLError\u001b[0m\u001b[0;34m(\u001b[0m\u001b[0me\u001b[0m\u001b[0;34m,\u001b[0m \u001b[0mrequest\u001b[0m\u001b[0;34m=\u001b[0m\u001b[0mrequest\u001b[0m\u001b[0;34m)\u001b[0m\u001b[0;34m\u001b[0m\u001b[0;34m\u001b[0m\u001b[0m\n\u001b[1;32m    515\u001b[0m \u001b[0;34m\u001b[0m\u001b[0m\n\u001b[0;32m--> 516\u001b[0;31m             \u001b[0;32mraise\u001b[0m \u001b[0mConnectionError\u001b[0m\u001b[0;34m(\u001b[0m\u001b[0me\u001b[0m\u001b[0;34m,\u001b[0m \u001b[0mrequest\u001b[0m\u001b[0;34m=\u001b[0m\u001b[0mrequest\u001b[0m\u001b[0;34m)\u001b[0m\u001b[0;34m\u001b[0m\u001b[0;34m\u001b[0m\u001b[0m\n\u001b[0m\u001b[1;32m    517\u001b[0m \u001b[0;34m\u001b[0m\u001b[0m\n\u001b[1;32m    518\u001b[0m         \u001b[0;32mexcept\u001b[0m \u001b[0mClosedPoolError\u001b[0m \u001b[0;32mas\u001b[0m \u001b[0me\u001b[0m\u001b[0;34m:\u001b[0m\u001b[0;34m\u001b[0m\u001b[0;34m\u001b[0m\u001b[0m\n",
      "\u001b[0;31mConnectionError\u001b[0m: HTTPSConnectionPool(host='statsapi.web.nhl.com', port=443): Max retries exceeded with url: /api/v1/game/2016020001/feed/live (Caused by NewConnectionError('<urllib3.connection.VerifiedHTTPSConnection object at 0x7f32f05ad0f0>: Failed to establish a new connection: [Errno -3] Temporary failure in name resolution'))"
     ]
    }
   ],
   "source": [
    "#this will cache all the recent data on my server\n",
    "#games_plays = []\n",
    "for year in range(2014,2019):\n",
    "    get_games_plays(year)"
   ]
  },
  {
   "cell_type": "code",
   "execution_count": 18,
   "metadata": {},
   "outputs": [
    {
     "name": "stdout",
     "output_type": "stream",
     "text": [
      "got 2011 games\n",
      "processed games\n",
      "corpus extended\n",
      "got 2012 games\n",
      "processed games\n",
      "corpus extended\n",
      "got 2013 games\n",
      "processed games\n",
      "corpus extended\n",
      "got 2014 games\n",
      "processed games\n",
      "corpus extended\n"
     ]
    }
   ],
   "source": [
    "corpus = []\n",
    "for year in range(2011,2015):\n",
    "    games = get_games_plays(year)\n",
    "    print(f'got {year} games')\n",
    "    games_processed = process_games_plays(games)\n",
    "    print('processed games')\n",
    "    corpus.extend(games_to_corpus(games_processed))\n",
    "    print('corpus extended')\n"
   ]
  },
  {
   "cell_type": "code",
   "execution_count": 165,
   "metadata": {},
   "outputs": [],
   "source": [
    "with open('corpus.txt', 'w') as f:\n",
    "    for game in corpus:\n",
    "        f.write(\"%s\\n\" % game)"
   ]
  },
  {
   "cell_type": "code",
   "execution_count": 188,
   "metadata": {},
   "outputs": [],
   "source": [
    "import logging\n",
    "import sys\n",
    "from collections import defaultdict\n",
    "from gensim import corpora \n",
    "from gensim.test.utils import common_texts, get_tmpfile\n",
    "from gensim.models import Word2Vec\n",
    "from gensim.models import KeyedVectors"
   ]
  },
  {
   "cell_type": "code",
   "execution_count": 167,
   "metadata": {
    "scrolled": true
   },
   "outputs": [
    {
     "data": {
      "text/plain": [
       "[['human', 'interface', 'computer'],\n",
       " ['survey', 'user', 'computer', 'system', 'response', 'time'],\n",
       " ['eps', 'user', 'interface', 'system'],\n",
       " ['system', 'human', 'system', 'eps'],\n",
       " ['user', 'response', 'time'],\n",
       " ['trees'],\n",
       " ['graph', 'trees'],\n",
       " ['graph', 'minors', 'trees'],\n",
       " ['graph', 'minors', 'survey']]"
      ]
     },
     "execution_count": 167,
     "metadata": {},
     "output_type": "execute_result"
    }
   ],
   "source": [
    "common_texts"
   ]
  },
  {
   "cell_type": "code",
   "execution_count": 171,
   "metadata": {},
   "outputs": [],
   "source": [
    "#format required for input to word2vec\n",
    "game_string_lists = [game.split() for game in corpus]"
   ]
  },
  {
   "cell_type": "code",
   "execution_count": 173,
   "metadata": {},
   "outputs": [
    {
     "data": {
      "text/plain": [
       "[['GameScheduled_nocoords_-1',\n",
       "  'PeriodReady_nocoords_-1',\n",
       "  'PeriodStart_nocoords_-1',\n",
       "  'Faceoff_nocoords_-1',\n",
       "  'Stoppage_nocoords_4',\n",
       "  'Faceoff_-20_-20_-1',\n",
       "  'Giveaway_10_10_4',\n",
       "  'MissedShot_-40_0_4',\n",
       "  'Stoppage_nocoords_-1',\n",
       "  'Faceoff_-60_-20_-1',\n",
       "  'Hit_-70_-30_2',\n",
       "  'Shot_30_-20_3',\n",
       "  'Shot_60_20_3',\n",
       "  'Hit_40_-30_4',\n",
       "  'Hit_-90_0_4',\n",
       "  'Hit_40_30_4',\n",
       "  'MissedShot_-50_-20_3',\n",
       "  'Giveaway_40_-30_3',\n",
       "  'Shot_70_20_2',\n",
       "  'Stoppage_nocoords_0',\n",
       "  'Faceoff_60_20_-1',\n",
       "  'Shot_-10_20_3',\n",
       "  'Stoppage_nocoords_1',\n",
       "  'Faceoff_-60_20_-1',\n",
       "  'BlockedShot_80_0_3',\n",
       "  'Stoppage_nocoords_3',\n",
       "  'Faceoff_60_20_-1',\n",
       "  'Stoppage_nocoords_-1',\n",
       "  'Faceoff_60_20_3',\n",
       "  'Stoppage_nocoords_-1',\n",
       "  'Takeaway_80_30_2',\n",
       "  'Shot_80_0_4',\n",
       "  'Stoppage_nocoords_-1',\n",
       "  'Faceoff_60_-20_-1',\n",
       "  'Takeaway_-50_-30_5',\n",
       "  'MissedShot_70_10_5',\n",
       "  'Shot_40_0_3',\n",
       "  'Shot_50_10_3',\n",
       "  'Stoppage_nocoords_0',\n",
       "  'Faceoff_60_20_-1',\n",
       "  'Hit_70_-30_3',\n",
       "  'Shot_-30_-30_4',\n",
       "  'Takeaway_-90_10_3',\n",
       "  'Stoppage_nocoords_4',\n",
       "  'Faceoff_nocoords_-1',\n",
       "  'Stoppage_nocoords_3',\n",
       "  'Faceoff_nocoords_-1',\n",
       "  'Stoppage_nocoords_5',\n",
       "  'Faceoff_60_-20_-1',\n",
       "  'Giveaway_90_0_2',\n",
       "  'Shot_40_-20_3',\n",
       "  'MissedShot_40_20_2',\n",
       "  'Shot_50_-30_2',\n",
       "  'BlockedShot_-80_10_4',\n",
       "  'Shot_-10_0_4',\n",
       "  'Shot_-60_-10_2',\n",
       "  'BlockedShot_-70_0_2',\n",
       "  'Stoppage_nocoords_5',\n",
       "  'Faceoff_60_-20_-1',\n",
       "  'BlockedShot_50_0_2',\n",
       "  'Hit_90_20_2',\n",
       "  'MissedShot_-50_0_4',\n",
       "  'Stoppage_nocoords_4',\n",
       "  'BlockedShot_70_-10_-1',\n",
       "  'Faceoff_60_-20_-1',\n",
       "  'Shot_70_-10_4',\n",
       "  'Shot_80_0_1',\n",
       "  'Stoppage_nocoords_5',\n",
       "  'Faceoff_-20_-20_-1',\n",
       "  'Stoppage_nocoords_3',\n",
       "  'Faceoff_nocoords_-1',\n",
       "  'Hit_-40_30_3',\n",
       "  'Hit_-30_-30_3',\n",
       "  'Stoppage_nocoords_-1',\n",
       "  'Faceoff_-20_-20_-1',\n",
       "  'BlockedShot_-60_-10_3',\n",
       "  'BlockedShot_70_10_4',\n",
       "  'Shot_70_0_4',\n",
       "  'MissedShot_80_-10_2',\n",
       "  'BlockedShot_70_0_2',\n",
       "  'Giveaway_90_0_5',\n",
       "  'Hit_90_20_3',\n",
       "  'MissedShot_60_0_4',\n",
       "  'Shot_40_10_3',\n",
       "  'MissedShot_70_0_2',\n",
       "  'Penalty_80_30_2',\n",
       "  'Stoppage_nocoords_-1',\n",
       "  'Faceoff_60_20_-1',\n",
       "  'Stoppage_nocoords_4',\n",
       "  'Faceoff_20_-20_-1',\n",
       "  'Shot_30_20_4',\n",
       "  'Shot_70_0_0',\n",
       "  'MissedShot_70_10_0',\n",
       "  'Stoppage_nocoords_5',\n",
       "  'Faceoff_60_-20_-1',\n",
       "  'Hit_80_0_5',\n",
       "  'Giveaway_60_0_4',\n",
       "  'Penalty_90_20_5',\n",
       "  'Faceoff_60_-20_-1',\n",
       "  'Hit_90_20_3',\n",
       "  'PeriodEnd_nocoords_4',\n",
       "  'PeriodOfficial_nocoords_-1',\n",
       "  'PeriodReady_nocoords_-1',\n",
       "  'PeriodStart_nocoords_-1',\n",
       "  'Faceoff_nocoords_-1',\n",
       "  'Shot_70_0_4',\n",
       "  'Goal_60_-10_2',\n",
       "  'Faceoff_nocoords_-1',\n",
       "  'Shot_-30_-30_5',\n",
       "  'Hit_-40_-30_-1',\n",
       "  'Stoppage_nocoords_0',\n",
       "  'Faceoff_-60_-20_-1',\n",
       "  'MissedShot_-30_0_3',\n",
       "  'Takeaway_-60_0_3',\n",
       "  'Hit_-20_-30_3',\n",
       "  'MissedShot_70_10_5',\n",
       "  'Stoppage_nocoords_2',\n",
       "  'Faceoff_60_-20_-1',\n",
       "  'BlockedShot_60_0_3',\n",
       "  'Takeaway_-40_-30_3',\n",
       "  'Shot_-40_30_4',\n",
       "  'Stoppage_nocoords_-1',\n",
       "  'Faceoff_-60_20_-1',\n",
       "  'Hit_90_-20_4',\n",
       "  'Stoppage_nocoords_4',\n",
       "  'Faceoff_60_20_-1',\n",
       "  'Giveaway_90_20_5',\n",
       "  'MissedShot_50_-20_3',\n",
       "  'BlockedShot_40_0_3',\n",
       "  'BlockedShot_-60_0_4',\n",
       "  'BlockedShot_-70_0_4',\n",
       "  'Takeaway_60_20_4',\n",
       "  'BlockedShot_50_0_4',\n",
       "  'Penalty_80_0_4',\n",
       "  'MissedShot_30_-10_-1',\n",
       "  'Stoppage_nocoords_-1',\n",
       "  'Faceoff_60_-20_-1',\n",
       "  'Stoppage_nocoords_5',\n",
       "  'Faceoff_20_-20_-1',\n",
       "  'Stoppage_nocoords_5',\n",
       "  'Faceoff_60_20_-1',\n",
       "  'MissedShot_60_0_2',\n",
       "  'Takeaway_70_0_3',\n",
       "  'Takeaway_-40_20_2',\n",
       "  'Shot_40_0_1',\n",
       "  'Stoppage_nocoords_0',\n",
       "  'Faceoff_60_-20_-1',\n",
       "  'Giveaway_90_0_2',\n",
       "  'MissedShot_40_0_4',\n",
       "  'Shot_80_10_3',\n",
       "  'Penalty_80_0_-1',\n",
       "  'Faceoff_-60_-20_-1',\n",
       "  'MissedShot_-40_20_5',\n",
       "  'Takeaway_-40_-30_4',\n",
       "  'Takeaway_80_-10_4',\n",
       "  'Shot_-40_0_3',\n",
       "  'Stoppage_nocoords_-1',\n",
       "  'Faceoff_-60_-20_-1',\n",
       "  'Stoppage_nocoords_4',\n",
       "  'Faceoff_60_-20_-1',\n",
       "  'Giveaway_-50_30_3',\n",
       "  'MissedShot_50_-10_3',\n",
       "  'Hit_60_30_1',\n",
       "  'Hit_40_-30_2',\n",
       "  'MissedShot_70_-10_3',\n",
       "  'Hit_80_-30_1',\n",
       "  'BlockedShot_-60_0_3',\n",
       "  'Giveaway_90_10_3',\n",
       "  'BlockedShot_60_0_5',\n",
       "  'Hit_-40_20_3',\n",
       "  'MissedShot_60_0_3',\n",
       "  'Stoppage_nocoords_2',\n",
       "  'MissedShot_60_10_-1',\n",
       "  'Faceoff_20_20_-1',\n",
       "  'Giveaway_80_30_5',\n",
       "  'Takeaway_20_-30_4',\n",
       "  'Shot_60_0_2',\n",
       "  'Hit_40_-30_3',\n",
       "  'MissedShot_-40_20_3',\n",
       "  'BlockedShot_-70_0_2',\n",
       "  'Giveaway_-90_-20_1',\n",
       "  'Shot_-30_-20_1',\n",
       "  'Stoppage_nocoords_-1',\n",
       "  'Faceoff_-60_-20_-1',\n",
       "  'Stoppage_nocoords_2',\n",
       "  'Faceoff_-60_-20_-1',\n",
       "  'Shot_70_0_6',\n",
       "  'MissedShot_60_20_2',\n",
       "  'BlockedShot_50_0_3',\n",
       "  'Giveaway_90_30_3',\n",
       "  'Stoppage_nocoords_3',\n",
       "  'Faceoff_60_20_-1',\n",
       "  'Penalty_-90_-10_3',\n",
       "  'Faceoff_60_-20_-1',\n",
       "  'Penalty_nocoords_5',\n",
       "  'Faceoff_60_20_-1',\n",
       "  'Shot_60_-30_6',\n",
       "  'Stoppage_nocoords_3',\n",
       "  'Shot_70_0_-1',\n",
       "  'Faceoff_60_-20_-1',\n",
       "  'MissedShot_50_-10_2',\n",
       "  'PeriodEnd_nocoords_3',\n",
       "  'PeriodOfficial_nocoords_-1',\n",
       "  'PeriodReady_nocoords_-1',\n",
       "  'PeriodStart_nocoords_-1',\n",
       "  'Faceoff_nocoords_-1',\n",
       "  'Shot_-30_20_2',\n",
       "  'Stoppage_nocoords_4',\n",
       "  'Faceoff_-60_20_-1',\n",
       "  'BlockedShot_-70_0_3',\n",
       "  'Penalty_-70_0_-1',\n",
       "  'Faceoff_-60_-20_-1',\n",
       "  'BlockedShot_-40_10_3',\n",
       "  'Shot_-70_0_5',\n",
       "  'Shot_-60_0_3',\n",
       "  'Giveaway_-20_-10_4',\n",
       "  'Giveaway_50_30_3',\n",
       "  'MissedShot_-40_0_2',\n",
       "  'Stoppage_nocoords_5',\n",
       "  'Faceoff_-20_20_-1',\n",
       "  'Shot_50_-10_5',\n",
       "  'Stoppage_nocoords_0',\n",
       "  'Faceoff_60_-20_-1',\n",
       "  'Shot_40_-20_4',\n",
       "  'Stoppage_nocoords_1',\n",
       "  'Faceoff_60_20_-1',\n",
       "  'Giveaway_-40_0_3',\n",
       "  'Goal_-40_10_2',\n",
       "  'Faceoff_nocoords_-1',\n",
       "  'Giveaway_80_40_5',\n",
       "  'Shot_-70_0_3',\n",
       "  'Penalty_-80_0_-1',\n",
       "  'Faceoff_60_20_-1',\n",
       "  'BlockedShot_70_10_5',\n",
       "  'Shot_70_0_3',\n",
       "  'Stoppage_nocoords_-1',\n",
       "  'Faceoff_60_-20_-1',\n",
       "  'BlockedShot_70_-10_5',\n",
       "  'Stoppage_nocoords_-1',\n",
       "  'Faceoff_60_-20_-1',\n",
       "  'Shot_70_10_4',\n",
       "  'Shot_50_30_3',\n",
       "  'Giveaway_60_0_5',\n",
       "  'BlockedShot_60_10_0',\n",
       "  'Hit_90_20_3',\n",
       "  'Shot_20_0_2',\n",
       "  'Hit_90_30_2',\n",
       "  'Shot_60_30_1',\n",
       "  'Stoppage_nocoords_1',\n",
       "  'Shot_80_0_-1',\n",
       "  'Faceoff_60_20_-1',\n",
       "  'Shot_80_-10_4',\n",
       "  'BlockedShot_70_0_4',\n",
       "  'Stoppage_nocoords_3',\n",
       "  'BlockedShot_-70_0_-1',\n",
       "  'Faceoff_-60_20_-1',\n",
       "  'MissedShot_-30_-20_5',\n",
       "  'Hit_-70_30_1',\n",
       "  'Giveaway_40_30_4',\n",
       "  'BlockedShot_60_0_3',\n",
       "  'Stoppage_nocoords_-1',\n",
       "  'Faceoff_60_-20_-1',\n",
       "  'Shot_-60_0_4',\n",
       "  'Hit_-30_40_5',\n",
       "  'Shot_50_30_4',\n",
       "  'Stoppage_nocoords_0',\n",
       "  'Faceoff_60_20_-1',\n",
       "  'Shot_80_10_3',\n",
       "  'Giveaway_-30_-30_2',\n",
       "  'BlockedShot_-60_-10_2',\n",
       "  'BlockedShot_50_0_6',\n",
       "  'MissedShot_-60_20_3',\n",
       "  'Hit_-70_40_3',\n",
       "  'MissedShot_-40_0_4',\n",
       "  'Shot_-50_30_3',\n",
       "  'Stoppage_nocoords_0',\n",
       "  'Faceoff_-60_20_-1',\n",
       "  'Takeaway_30_-30_5',\n",
       "  'Faceoff_60_-20_2',\n",
       "  'BlockedShot_70_0_4',\n",
       "  'Stoppage_nocoords_-1',\n",
       "  'Faceoff_60_-20_-1',\n",
       "  'BlockedShot_60_-10_3',\n",
       "  'BlockedShot_50_0_4',\n",
       "  'Stoppage_nocoords_1',\n",
       "  'Faceoff_60_20_-1',\n",
       "  'Shot_30_0_2',\n",
       "  'Giveaway_90_0_2',\n",
       "  'Hit_-80_-30_3',\n",
       "  'Giveaway_40_-30_5',\n",
       "  'Stoppage_nocoords_4',\n",
       "  'Faceoff_60_20_-1',\n",
       "  'BlockedShot_60_0_2',\n",
       "  'BlockedShot_60_0_2',\n",
       "  'Giveaway_-90_10_4',\n",
       "  'Penalty_70_-30_3',\n",
       "  'Faceoff_60_-20_-1',\n",
       "  'Shot_70_-10_4',\n",
       "  'PeriodEnd_nocoords_3',\n",
       "  'PeriodOfficial_nocoords_-1',\n",
       "  'GameEnd_nocoords_-1']]"
      ]
     },
     "execution_count": 173,
     "metadata": {},
     "output_type": "execute_result"
    }
   ],
   "source": [
    "game_string_lists[1:2][:]"
   ]
  },
  {
   "cell_type": "code",
   "execution_count": 174,
   "metadata": {},
   "outputs": [],
   "source": [
    "path = get_tmpfile(\"word2vec.model\")"
   ]
  },
  {
   "cell_type": "code",
   "execution_count": 180,
   "metadata": {
    "scrolled": true
   },
   "outputs": [],
   "source": [
    "#train the word2vec encoding\n",
    "model = Word2Vec(game_string_lists, size=100, window=5, min_count=1, workers=4)"
   ]
  },
  {
   "cell_type": "code",
   "execution_count": 196,
   "metadata": {},
   "outputs": [
    {
     "name": "stderr",
     "output_type": "stream",
     "text": [
      "WARNING:smart_open.smart_open_lib:this function is deprecated, use smart_open.open instead\n"
     ]
    }
   ],
   "source": [
    "model.save('mymodel.w2v')"
   ]
  },
  {
   "cell_type": "code",
   "execution_count": 217,
   "metadata": {
    "scrolled": true
   },
   "outputs": [
    {
     "data": {
      "text/plain": [
       "array([-6.52623028e-02,  2.62971252e-01,  3.30781221e-01,  7.79382065e-02,\n",
       "       -3.76199335e-02,  5.98714590e-01,  6.38641790e-02,  3.17356974e-01,\n",
       "        1.53100565e-01, -1.11597709e-01,  3.26891318e-02,  5.87340333e-02,\n",
       "       -4.14673954e-01,  2.19534170e-02, -5.52453160e-01,  4.15992141e-02,\n",
       "        2.54923642e-01, -5.99646032e-01,  1.09100066e-01,  9.53629520e-03,\n",
       "       -2.21212264e-02, -1.39837533e-01, -2.70800799e-01,  5.32477796e-01,\n",
       "        5.16480803e-01, -1.45630389e-01,  5.57392597e-01,  6.02832556e-01,\n",
       "       -4.99377102e-01, -1.09522319e+00, -9.15114358e-02,  8.19948435e-01,\n",
       "       -1.32371441e-01, -4.25279826e-01, -1.79876655e-01,  4.08810824e-01,\n",
       "       -5.80217242e-01,  3.18313837e-01, -7.53280163e-01, -6.20947361e-01,\n",
       "       -5.29556751e-01,  4.09418702e-01,  2.99303681e-01,  8.43272195e-04,\n",
       "        6.85069084e-01,  1.30225718e-02,  1.20573330e+00,  1.17890239e-01,\n",
       "       -3.54548216e-01, -4.25401717e-01, -1.10987902e-01, -6.03261180e-02,\n",
       "       -8.04263800e-02,  6.70250595e-01,  6.81037784e-01,  6.12617880e-02,\n",
       "        5.67828938e-02, -1.60910055e-01,  3.82017740e-03,  3.10913920e-01,\n",
       "       -2.58928716e-01,  3.48857045e-01,  5.90326071e-01, -6.52860284e-01,\n",
       "        8.89724568e-02, -2.17591181e-01, -2.39590809e-01, -3.48426521e-01,\n",
       "        1.55341491e-01,  1.01343560e+00,  3.35203975e-01,  4.71588045e-01,\n",
       "        1.40141070e-01, -5.46472549e-01,  1.04371406e-01, -7.54578352e-01,\n",
       "        2.99438149e-01,  2.39084978e-02, -3.01701218e-01,  3.58925432e-01,\n",
       "       -7.47757703e-02, -1.31312698e-01,  3.78882408e-01, -1.79910392e-01,\n",
       "       -8.50553930e-01,  4.65279162e-01,  2.57298956e-03, -8.06427151e-02,\n",
       "       -1.07200846e-01, -5.12744844e-01,  5.02679169e-01,  1.01615953e+00,\n",
       "        3.10919106e-01,  2.20201574e-02, -1.21892226e+00, -2.11924851e-01,\n",
       "        5.28061271e-01,  6.46195859e-02, -2.37618685e-02, -4.71573383e-01],\n",
       "      dtype=float32)"
      ]
     },
     "execution_count": 217,
     "metadata": {},
     "output_type": "execute_result"
    }
   ],
   "source": [
    "model.wv['BlockedShot_60_0_2']"
   ]
  },
  {
   "cell_type": "code",
   "execution_count": 238,
   "metadata": {},
   "outputs": [
    {
     "name": "stderr",
     "output_type": "stream",
     "text": [
      "/opt/conda/envs/data3/lib/python3.6/site-packages/ipykernel_launcher.py:1: DeprecationWarning: Call to deprecated `similarity` (Method will be removed in 4.0.0, use self.wv.similarity() instead).\n",
      "  \"\"\"Entry point for launching an IPython kernel.\n",
      "/opt/conda/envs/data3/lib/python3.6/site-packages/gensim/matutils.py:737: FutureWarning: Conversion of the second argument of issubdtype from `int` to `np.signedinteger` is deprecated. In future, it will be treated as `np.int64 == np.dtype(int).type`.\n",
      "  if np.issubdtype(vec.dtype, np.int):\n"
     ]
    },
    {
     "data": {
      "text/plain": [
       "0.22092938"
      ]
     },
     "execution_count": 238,
     "metadata": {},
     "output_type": "execute_result"
    }
   ],
   "source": [
    "model.similarity('Shot_50_-20_1', 'Goal_60_-10_0')"
   ]
  },
  {
   "cell_type": "code",
   "execution_count": 248,
   "metadata": {},
   "outputs": [
    {
     "name": "stderr",
     "output_type": "stream",
     "text": [
      "/opt/conda/envs/data3/lib/python3.6/site-packages/ipykernel_launcher.py:4: DeprecationWarning: Call to deprecated `__getitem__` (Method will be removed in 4.0.0, use self.wv.__getitem__() instead).\n",
      "  after removing the cwd from sys.path.\n"
     ]
    }
   ],
   "source": [
    "from sklearn.decomposition import PCA\n",
    "import matplotlib.pyplot as plt\n"
   ]
  },
  {
   "cell_type": "code",
   "execution_count": 276,
   "metadata": {},
   "outputs": [
    {
     "name": "stderr",
     "output_type": "stream",
     "text": [
      "/opt/conda/envs/data3/lib/python3.6/site-packages/ipykernel_launcher.py:2: DeprecationWarning: Call to deprecated `__getitem__` (Method will be removed in 4.0.0, use self.wv.__getitem__() instead).\n",
      "  \n"
     ]
    },
    {
     "data": {
      "image/png": "[encoded data removed]",
      "text/plain": [
       "<Figure size 432x288 with 1 Axes>"
      ]
     },
     "metadata": {},
     "output_type": "display_data"
    }
   ],
   "source": [
    "pca = PCA(n_components=100)\n",
    "result = pca.fit_transform(model[model.wv.vocab])\n",
    "c1 = 1\n",
    "c2 = 0\n",
    "start_wordi = 2040\n",
    "stop_wordi = 2080\n",
    "plt.scatter(result[start_wordi:stop_wordi, c1], \n",
    "            result[start_wordi:stop_wordi, c2])\n",
    "words = list(model.wv.vocab)\n",
    "for i, word in enumerate(words[0:stop_wordi]):\n",
    "    if i >= start_wordi:\n",
    "        plt.annotate(word, xy=(result[i, c1], result[i, c2]))\n",
    "plt.show()"
   ]
  },
  {
   "cell_type": "code",
   "execution_count": null,
   "metadata": {},
   "outputs": [],
   "source": []
  }
 ],
 "metadata": {
  "kernelspec": {
   "display_name": "Python 3",
   "language": "python",
   "name": "python3"
  },
  "language_info": {
   "codemirror_mode": {
    "name": "ipython",
    "version": 3
   },
   "file_extension": ".py",
   "mimetype": "text/x-python",
   "name": "python",
   "nbconvert_exporter": "python",
   "pygments_lexer": "ipython3",
   "version": "3.7.3"
  }
 },
 "nbformat": 4,
 "nbformat_minor": 2
}
